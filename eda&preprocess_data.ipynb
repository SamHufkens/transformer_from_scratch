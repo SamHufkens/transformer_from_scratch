{
 "cells": [
  {
   "cell_type": "markdown",
   "metadata": {
    "id": "0we0MCHuMpGK"
   },
   "source": [
    "# EDA & Process"
   ]
  },
  {
   "cell_type": "markdown",
   "metadata": {
    "id": "0dhmHiovMr6J"
   },
   "source": [
    "This notebook wil contain code for performing EDA on the dataset, we will figure out which pile set is most common and the distribution of perplexity. After the EDA the dataset will be preprocessed to sequences, so a train dataset can be created"
   ]
  },
  {
   "cell_type": "code",
   "execution_count": null,
   "metadata": {
    "id": "KvhRAQPqMrk6"
   },
   "outputs": [],
   "source": [
    "# Imports\n",
    "import pandas as pd\n",
    "pd.set_option('display.max_colwidth', None)\n",
    "\n",
    "import re\n",
    "import string\n",
    "\n",
    "import numpy as np"
   ]
  },
  {
   "cell_type": "code",
   "execution_count": null,
   "metadata": {
    "id": "7MwT8kXhMkSz"
   },
   "outputs": [],
   "source": [
    "# Constants\n",
    "MOVIES_DATA_PATH = './rotten_tomatoes_movies.csv'\n",
    "REVIEWS_DATA_PATH = './rotten_tomatoes_movie_reviews.csv'"
   ]
  },
  {
   "cell_type": "markdown",
   "metadata": {
    "id": "p9pea-bHNMYw"
   },
   "source": [
    "## 1. Load data"
   ]
  },
  {
   "cell_type": "code",
   "execution_count": null,
   "metadata": {
    "id": "986Smj-qNRJ-"
   },
   "outputs": [],
   "source": [
    "movies_df = pd.read_csv(MOVIES_DATA_PATH)\n",
    "reviews_df = pd.read_csv(REVIEWS_DATA_PATH)"
   ]
  },
  {
   "cell_type": "code",
   "execution_count": null,
   "metadata": {},
   "outputs": [],
   "source": [
    "# Merge dataframes\n",
    "df = pd.merge(movies_df, reviews_df, on='id')\n",
    "\n",
    "# Remove unnecessary columns\n",
    "df = df[[\"title\", \"reviewText\"]]\n",
    "\n",
    "# Drop null values\n",
    "df.dropna(inplace=True)"
   ]
  },
  {
   "cell_type": "code",
   "execution_count": null,
   "metadata": {},
   "outputs": [],
   "source": [
    "\n",
    "df = df.iloc[:-394027]"
   ]
  },
  {
   "cell_type": "markdown",
   "metadata": {
    "id": "GK4iaI6ANQxw"
   },
   "source": [
    "## 3. Preprocess data"
   ]
  },
  {
   "cell_type": "code",
   "execution_count": null,
   "metadata": {},
   "outputs": [
    {
     "name": "stderr",
     "output_type": "stream",
     "text": [
      "C:\\Users\\Sam\\AppData\\Local\\Temp\\ipykernel_7716\\1416982925.py:2: FutureWarning: Passing literal json to 'read_json' is deprecated and will be removed in a future version. To read from a literal string, wrap it in a 'StringIO' object.\n",
      "  parsed_data = pd.read_json(json_data)\n"
     ]
    }
   ],
   "source": [
    "json_data = df.to_json(orient='records')\n",
    "parsed_data = pd.read_json(json_data)\n",
    "data = [\n",
    "    \"movie review:\" + row['title'] + \" | \" + row['reviewText']\n",
    "    for index, row in parsed_data.iterrows()\n",
    "]"
   ]
  },
  {
   "cell_type": "code",
   "execution_count": 16,
   "metadata": {
    "id": "CFYtIicDNUXs"
   },
   "outputs": [],
   "source": [
    "def format_string(s):\n",
    "    s = s.replace('\\n', ' ')\n",
    "    # Handle punctuation spacing\n",
    "    s = re.sub(f\"([{re.escape(string.punctuation)}])\", r' \\1 ', s)\n",
    "    # Collapse multiple spaces\n",
    "    s = re.sub(' +', ' ', s)\n",
    "    return s.strip()\n"
   ]
  },
  {
   "cell_type": "code",
   "execution_count": 17,
   "metadata": {},
   "outputs": [],
   "source": [
    "data = [format_string(d) for d in data]\n",
    "np.save('movie_reviews.npy', data)"
   ]
  }
 ],
 "metadata": {
  "accelerator": "GPU",
  "colab": {
   "authorship_tag": "ABX9TyMd0U2/N2YF7spAZsGPqcLH",
   "collapsed_sections": [
    "p9pea-bHNMYw",
    "ntACeazQOd-N",
    "GK4iaI6ANQxw"
   ],
   "gpuType": "T4",
   "mount_file_id": "1lC5A528DXfwRT7maTYaOe8Ok3Gvdqz1A",
   "provenance": []
  },
  "kernelspec": {
   "display_name": "Python 3",
   "name": "python3"
  },
  "language_info": {
   "codemirror_mode": {
    "name": "ipython",
    "version": 3
   },
   "file_extension": ".py",
   "mimetype": "text/x-python",
   "name": "python",
   "nbconvert_exporter": "python",
   "pygments_lexer": "ipython3",
   "version": "3.10.7"
  }
 },
 "nbformat": 4,
 "nbformat_minor": 0
}
